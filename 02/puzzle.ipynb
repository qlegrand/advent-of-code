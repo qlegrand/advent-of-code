{
 "cells": [
  {
   "cell_type": "code",
   "execution_count": 1,
   "metadata": {},
   "outputs": [],
   "source": [
    "from collections import defaultdict\n",
    "import os"
   ]
  },
  {
   "cell_type": "code",
   "execution_count": 2,
   "metadata": {},
   "outputs": [],
   "source": [
    "BASE_PATH = os.environ[\"REPO_PATH\"]\n",
    "PROJECT_FOLDER = \"advent-of-code-2023\"\n",
    "DAY = \"02\"\n",
    "PUZZLE_DATA_PATH = os.path.join(BASE_PATH, PROJECT_FOLDER, DAY, \"inputs\", \"puzzle.txt\")"
   ]
  },
  {
   "cell_type": "markdown",
   "metadata": {},
   "source": [
    "# Extract data"
   ]
  },
  {
   "cell_type": "code",
   "execution_count": 3,
   "metadata": {},
   "outputs": [],
   "source": [
    "with open(PUZZLE_DATA_PATH) as f:\n",
    "    puzzle_data = f.readlines()"
   ]
  },
  {
   "cell_type": "markdown",
   "metadata": {},
   "source": [
    "# Puzzle 1"
   ]
  },
  {
   "cell_type": "code",
   "execution_count": 4,
   "metadata": {},
   "outputs": [],
   "source": [
    "DRAWS_LIMIT = {\n",
    "    \"red\": 12,\n",
    "    \"green\": 13,\n",
    "    \"blue\": 14,\n",
    "}"
   ]
  },
  {
   "cell_type": "code",
   "execution_count": 5,
   "metadata": {},
   "outputs": [
    {
     "name": "stdout",
     "output_type": "stream",
     "text": [
      "possible_games_id_sum=2164\n"
     ]
    }
   ],
   "source": [
    "possible_games_id_sum = sum([int(d.strip(\"\\n\").split(\": \")[0].split(\" \")[1]) for d in puzzle_data])\n",
    "for d in puzzle_data:\n",
    "    game_id, draws = d.strip(\"\\n\").split(\": \")\n",
    "    game_id = int(game_id.split(\" \")[1])\n",
    "    draws = draws.split(\"; \")\n",
    "    id_counted = False\n",
    "    for draw in draws:\n",
    "        draw_list = draw.split(\", \")\n",
    "        for col in draw_list:\n",
    "            number, colour = col.split(\" \")\n",
    "            if int(number) > DRAWS_LIMIT[colour] and not id_counted:\n",
    "                possible_games_id_sum -= game_id\n",
    "                id_counted = True\n",
    "                break\n",
    "print(f\"{possible_games_id_sum=}\")"
   ]
  },
  {
   "cell_type": "markdown",
   "metadata": {},
   "source": [
    "# Puzzle 2"
   ]
  },
  {
   "cell_type": "code",
   "execution_count": 6,
   "metadata": {},
   "outputs": [
    {
     "name": "stdout",
     "output_type": "stream",
     "text": [
      "sum_powers=69929\n"
     ]
    }
   ],
   "source": [
    "sum_powers = 0\n",
    "for d in puzzle_data:\n",
    "    game_id, draws = d.strip(\"\\n\").split(\": \")\n",
    "    game_id = int(game_id.split(\" \")[1])\n",
    "    draws = draws.split(\"; \")\n",
    "    id_counted = False\n",
    "    draw_dict = defaultdict(lambda: 0)\n",
    "    power = 1\n",
    "    for draw in draws:\n",
    "        draw_list = draw.split(\", \")\n",
    "        for col in draw_list:\n",
    "            number, colour = col.split(\" \")\n",
    "            if int(number) > draw_dict[colour]:\n",
    "                draw_dict[colour] = int(number)\n",
    "    for v in draw_dict.values():\n",
    "        power *= v\n",
    "    sum_powers += power\n",
    "print(f\"{sum_powers=}\")"
   ]
  },
  {
   "cell_type": "code",
   "execution_count": null,
   "metadata": {},
   "outputs": [],
   "source": []
  }
 ],
 "metadata": {
  "kernelspec": {
   "display_name": "3.9.6",
   "language": "python",
   "name": "python3"
  },
  "language_info": {
   "codemirror_mode": {
    "name": "ipython",
    "version": 3
   },
   "file_extension": ".py",
   "mimetype": "text/x-python",
   "name": "python",
   "nbconvert_exporter": "python",
   "pygments_lexer": "ipython3",
   "version": "3.9.6"
  }
 },
 "nbformat": 4,
 "nbformat_minor": 2
}
