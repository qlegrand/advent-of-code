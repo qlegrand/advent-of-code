{
 "cells": [
  {
   "cell_type": "code",
   "execution_count": 1,
   "metadata": {},
   "outputs": [],
   "source": [
    "import os"
   ]
  },
  {
   "cell_type": "markdown",
   "metadata": {},
   "source": [
    "# Extract data"
   ]
  },
  {
   "cell_type": "code",
   "execution_count": 2,
   "metadata": {},
   "outputs": [],
   "source": [
    "FILENAME = \"puzzle.txt\"\n",
    "PUZZLE_DATA_PATH = os.path.join(\"./inputs\", FILENAME)\n",
    "with open(PUZZLE_DATA_PATH) as f:\n",
    "    puzzle_data = f.read().splitlines()"
   ]
  },
  {
   "cell_type": "markdown",
   "metadata": {},
   "source": [
    "# Puzzle 1"
   ]
  },
  {
   "cell_type": "code",
   "execution_count": 3,
   "metadata": {},
   "outputs": [],
   "source": [
    "def get_card_points(card):\n",
    "    drawn_numbers, key_card = card.split(\": \")[1].split(\" | \")\n",
    "    drawn_numbers = [int(num) for num in drawn_numbers.split(\" \") if num != \"\"]\n",
    "    key_card = [int(num) for num in key_card.split(\" \") if num != \"\"]\n",
    "    winning_numbers = []\n",
    "    for d in drawn_numbers:\n",
    "        if d in key_card:\n",
    "            winning_numbers.append(d)\n",
    "    power = len(winning_numbers) - 1\n",
    "    points = 2**power if power >= 0 else 0\n",
    "    return points"
   ]
  },
  {
   "cell_type": "code",
   "execution_count": 4,
   "metadata": {},
   "outputs": [
    {
     "name": "stdout",
     "output_type": "stream",
     "text": [
      "total_points=21088\n"
     ]
    }
   ],
   "source": [
    "total_points = 0\n",
    "for card in puzzle_data:\n",
    "    total_points += get_card_points(card)\n",
    "print(f\"{total_points=}\")"
   ]
  },
  {
   "cell_type": "markdown",
   "metadata": {},
   "source": [
    "# Puzzle 2"
   ]
  },
  {
   "cell_type": "code",
   "execution_count": null,
   "metadata": {},
   "outputs": [],
   "source": []
  }
 ],
 "metadata": {
  "kernelspec": {
   "display_name": "3.9.6",
   "language": "python",
   "name": "python3"
  },
  "language_info": {
   "codemirror_mode": {
    "name": "ipython",
    "version": 3
   },
   "file_extension": ".py",
   "mimetype": "text/x-python",
   "name": "python",
   "nbconvert_exporter": "python",
   "pygments_lexer": "ipython3",
   "version": "3.9.6"
  }
 },
 "nbformat": 4,
 "nbformat_minor": 2
}
