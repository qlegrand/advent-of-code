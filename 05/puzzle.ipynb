{
 "cells": [
  {
   "cell_type": "code",
   "execution_count": 1,
   "metadata": {},
   "outputs": [],
   "source": [
    "from collections import defaultdict\n",
    "import os\n",
    "import re\n",
    "import sys\n",
    "\n",
    "REPO_ROOT = os.environ[\"REPO_PATH\"]\n",
    "PROJECT_NAME = \"advent-of-code-2023\"\n",
    "sys.path.append(os.path.join(REPO_ROOT, PROJECT_NAME))\n",
    "\n",
    "import utils"
   ]
  },
  {
   "cell_type": "markdown",
   "metadata": {},
   "source": [
    "# Extract data"
   ]
  },
  {
   "cell_type": "code",
   "execution_count": 2,
   "metadata": {},
   "outputs": [],
   "source": [
    "puzzle_data = utils.load_data(test=False)\n",
    "puzzle_data = [x for x in puzzle_data if x != \"\"]"
   ]
  },
  {
   "cell_type": "code",
   "execution_count": 3,
   "metadata": {},
   "outputs": [],
   "source": [
    "seeds = puzzle_data[0].split(\": \")[1].split(\" \")\n",
    "seeds = [int(x) for x in seeds]"
   ]
  },
  {
   "cell_type": "code",
   "execution_count": 4,
   "metadata": {},
   "outputs": [],
   "source": [
    "def parse_maps(mapping_list: list[str]) -> list:\n",
    "    mapping = defaultdict(list)\n",
    "    key = \"\"\n",
    "    values = []\n",
    "    for line in mapping_list:\n",
    "        if re.match(r\"\\d+\", line):\n",
    "            line = [int(x) for x in line.split(\" \")]\n",
    "            mapping[key].append(line)\n",
    "        else:\n",
    "            key = line.split(\" map:\")[0]\n",
    "    return dict(mapping)"
   ]
  },
  {
   "cell_type": "code",
   "execution_count": 5,
   "metadata": {},
   "outputs": [],
   "source": [
    "maps = puzzle_data[1:]\n",
    "maps = parse_maps(maps)"
   ]
  },
  {
   "cell_type": "markdown",
   "metadata": {},
   "source": [
    "# Puzzle 1"
   ]
  },
  {
   "cell_type": "code",
   "execution_count": 6,
   "metadata": {},
   "outputs": [],
   "source": [
    "def find_mapped_value(mapping: list[list[int]], value: int) -> int:\n",
    "    for l in mapping:\n",
    "        lower_or = l[1]\n",
    "        higher_or = l[1] + l[2]\n",
    "        delta = l[0] - l[1]\n",
    "        if value >= lower_or and value < higher_or:\n",
    "            return value + delta\n",
    "    return value\n",
    "\n",
    "\n",
    "def find_location(seed: int, mapping: dict) -> int:\n",
    "    maps = mapping.copy()\n",
    "    if len(maps) == 0:\n",
    "        return seed\n",
    "    keys = [k for k in maps.keys()]\n",
    "    mapping_list = maps.pop(keys[0])\n",
    "    mapped_value = find_mapped_value(mapping_list, seed)\n",
    "    return find_location(mapped_value, maps)"
   ]
  },
  {
   "cell_type": "code",
   "execution_count": 7,
   "metadata": {},
   "outputs": [],
   "source": [
    "locations = []\n",
    "for seed in seeds:\n",
    "    locations.append(find_location(seed, maps))"
   ]
  },
  {
   "cell_type": "code",
   "execution_count": 8,
   "metadata": {},
   "outputs": [
    {
     "name": "stdout",
     "output_type": "stream",
     "text": [
      "min(locations)=551761867\n"
     ]
    }
   ],
   "source": [
    "print(f\"{min(locations)=}\")"
   ]
  },
  {
   "cell_type": "code",
   "execution_count": null,
   "metadata": {},
   "outputs": [],
   "source": []
  }
 ],
 "metadata": {
  "kernelspec": {
   "display_name": "3.9.6",
   "language": "python",
   "name": "python3"
  },
  "language_info": {
   "codemirror_mode": {
    "name": "ipython",
    "version": 3
   },
   "file_extension": ".py",
   "mimetype": "text/x-python",
   "name": "python",
   "nbconvert_exporter": "python",
   "pygments_lexer": "ipython3",
   "version": "3.9.6"
  }
 },
 "nbformat": 4,
 "nbformat_minor": 2
}
