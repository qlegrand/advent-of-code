{
 "cells": [
  {
   "cell_type": "code",
   "execution_count": 1,
   "metadata": {},
   "outputs": [],
   "source": [
    "import os\n",
    "import sys\n",
    "\n",
    "REPO_ROOT = os.environ[\"REPO_PATH\"]\n",
    "PROJECT_NAME = \"advent-of-code-2023\"\n",
    "sys.path.append(os.path.join(REPO_ROOT, PROJECT_NAME))\n",
    "\n",
    "import utils"
   ]
  },
  {
   "cell_type": "markdown",
   "metadata": {},
   "source": [
    "# Configs."
   ]
  },
  {
   "cell_type": "code",
   "execution_count": 2,
   "metadata": {},
   "outputs": [],
   "source": [
    "SETS = {\n",
    "    7: [5],\n",
    "    6: [4, 1],\n",
    "    5: [3, 2],\n",
    "    4: [3, 1, 1],\n",
    "    3: [2, 2, 1],\n",
    "    2: [2, 1, 1, 1],\n",
    "    1: [1, 1, 1, 1, 1],\n",
    "}\n",
    "\n",
    "CARDS_ORDER = {\n",
    "    \"A\": 13,\n",
    "    \"K\": 12,\n",
    "    \"Q\": 11,\n",
    "    \"J\": 10,\n",
    "    \"T\": 9,\n",
    "    \"9\": 8,\n",
    "    \"8\": 7,\n",
    "    \"7\": 6,\n",
    "    \"6\": 5,\n",
    "    \"5\": 4,\n",
    "    \"4\": 3,\n",
    "    \"3\": 2,\n",
    "    \"2\": 1,\n",
    "}"
   ]
  },
  {
   "cell_type": "markdown",
   "metadata": {},
   "source": [
    "# Common functions"
   ]
  },
  {
   "cell_type": "code",
   "execution_count": 3,
   "metadata": {},
   "outputs": [],
   "source": [
    "def find_all_combinations_for_hand(split_hand, joker_card: str = None):\n",
    "    all_combinations = []\n",
    "    if joker_card not in split_hand:\n",
    "        return [split_hand]\n",
    "    for i, card in enumerate(split_hand):\n",
    "        if card == joker_card:\n",
    "            for k in CARDS_ORDER.keys():\n",
    "                split_hand_copy = split_hand.copy()\n",
    "                if k == joker_card:\n",
    "                    continue\n",
    "                split_hand_copy[i] = k\n",
    "                for l in find_all_combinations_for_hand(split_hand_copy, joker_card):\n",
    "                    all_combinations.append(l)\n",
    "            break\n",
    "    return all_combinations\n",
    "\n",
    "\n",
    "def get_hand_data(hand, hand_score, card_values: dict, joker_card: str = None):\n",
    "    split_hand = [card for card in hand]\n",
    "    hand_cards_values = [card_values[card] for card in split_hand]\n",
    "    max_hand_score = 0\n",
    "    for combination in find_all_combinations_for_hand(split_hand, joker_card):\n",
    "        hand_cards_order = [CARDS_ORDER[card] for card in combination]\n",
    "        hand_sets = [hand_cards_order.count(card) for card in set(hand_cards_order)]\n",
    "        hand_sets.sort(reverse=True)\n",
    "        hand_raw_rank_tmp = [k for k, v in SETS.items() if v == hand_sets]\n",
    "        if hand_raw_rank_tmp[0] > max_hand_score:\n",
    "            max_hand_score = hand_raw_rank_tmp[0]\n",
    "            hand_raw_rank = hand_raw_rank_tmp\n",
    "    sorting_tuple = tuple(hand_raw_rank + hand_cards_values)\n",
    "    return {\n",
    "        hand: {\n",
    "            \"sorting_tuple\": sorting_tuple,\n",
    "            \"score\": hand_score,\n",
    "        }\n",
    "    }"
   ]
  },
  {
   "cell_type": "markdown",
   "metadata": {},
   "source": [
    "# Extract data"
   ]
  },
  {
   "cell_type": "code",
   "execution_count": 4,
   "metadata": {},
   "outputs": [],
   "source": [
    "puzzle_data = utils.load_data(test=False)"
   ]
  },
  {
   "cell_type": "code",
   "execution_count": 5,
   "metadata": {},
   "outputs": [],
   "source": [
    "scores = [int(game.split(\" \")[1]) for game in puzzle_data]\n",
    "hands = [game.split(\" \")[0] for game in puzzle_data]"
   ]
  },
  {
   "cell_type": "markdown",
   "metadata": {},
   "source": [
    "# Puzzle 1"
   ]
  },
  {
   "cell_type": "code",
   "execution_count": 6,
   "metadata": {},
   "outputs": [],
   "source": [
    "CARDS_VALUES = CARDS_ORDER.copy()"
   ]
  },
  {
   "cell_type": "code",
   "execution_count": 7,
   "metadata": {},
   "outputs": [],
   "source": [
    "game = []\n",
    "for h, s in zip(hands, scores):\n",
    "    game.append(get_hand_data(h, s, card_values=CARDS_VALUES))\n",
    "game.sort(key=lambda x: x[list(x.keys())[0]][\"sorting_tuple\"])\n",
    "game_scores = [rank * list(hand.values())[0][\"score\"] for rank, hand in enumerate(game, start=1)]"
   ]
  },
  {
   "cell_type": "code",
   "execution_count": 8,
   "metadata": {},
   "outputs": [
    {
     "name": "stdout",
     "output_type": "stream",
     "text": [
      "sum(game_scores)=251806792\n"
     ]
    }
   ],
   "source": [
    "print(f\"{sum(game_scores)=}\")"
   ]
  },
  {
   "cell_type": "markdown",
   "metadata": {},
   "source": [
    "# Puzzle 2"
   ]
  },
  {
   "cell_type": "code",
   "execution_count": 9,
   "metadata": {},
   "outputs": [],
   "source": [
    "joker_card = \"J\"\n",
    "CARDS_VALUES[joker_card] = 0"
   ]
  },
  {
   "cell_type": "code",
   "execution_count": 10,
   "metadata": {},
   "outputs": [],
   "source": [
    "game = []\n",
    "for h, s in zip(hands, scores):\n",
    "    game.append(get_hand_data(h, s, card_values=CARDS_VALUES, joker_card=joker_card))\n",
    "game.sort(key=lambda x: x[list(x.keys())[0]][\"sorting_tuple\"])\n",
    "game_scores = [rank * list(hand.values())[0][\"score\"] for rank, hand in enumerate(game, start=1)]"
   ]
  },
  {
   "cell_type": "code",
   "execution_count": 11,
   "metadata": {},
   "outputs": [
    {
     "name": "stdout",
     "output_type": "stream",
     "text": [
      "sum(game_scores)=252113488\n"
     ]
    }
   ],
   "source": [
    "print(f\"{sum(game_scores)=}\")"
   ]
  },
  {
   "cell_type": "code",
   "execution_count": null,
   "metadata": {},
   "outputs": [],
   "source": []
  }
 ],
 "metadata": {
  "kernelspec": {
   "display_name": "3.9.6",
   "language": "python",
   "name": "python3"
  },
  "language_info": {
   "codemirror_mode": {
    "name": "ipython",
    "version": 3
   },
   "file_extension": ".py",
   "mimetype": "text/x-python",
   "name": "python",
   "nbconvert_exporter": "python",
   "pygments_lexer": "ipython3",
   "version": "3.9.6"
  }
 },
 "nbformat": 4,
 "nbformat_minor": 2
}
