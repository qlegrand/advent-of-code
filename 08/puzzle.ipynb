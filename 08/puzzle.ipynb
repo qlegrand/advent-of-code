{
 "cells": [
  {
   "cell_type": "code",
   "execution_count": 1,
   "metadata": {},
   "outputs": [],
   "source": [
    "import os\n",
    "import sys\n",
    "\n",
    "REPO_ROOT = os.environ[\"REPO_PATH\"]\n",
    "PROJECT_NAME = \"advent-of-code-2023\"\n",
    "sys.path.append(os.path.join(REPO_ROOT, PROJECT_NAME))\n",
    "\n",
    "import utils"
   ]
  },
  {
   "cell_type": "markdown",
   "metadata": {},
   "source": [
    "# Configs."
   ]
  },
  {
   "cell_type": "code",
   "execution_count": 2,
   "metadata": {},
   "outputs": [],
   "source": [
    "DIR_TO_INDICE = {\n",
    "    \"L\": 0,\n",
    "    \"R\": 1,\n",
    "}"
   ]
  },
  {
   "cell_type": "markdown",
   "metadata": {},
   "source": [
    "# Extract data"
   ]
  },
  {
   "cell_type": "code",
   "execution_count": 3,
   "metadata": {},
   "outputs": [],
   "source": [
    "puzzle_data = utils.load_data(test=False)"
   ]
  },
  {
   "cell_type": "code",
   "execution_count": 4,
   "metadata": {},
   "outputs": [],
   "source": [
    "directions = puzzle_data[0]\n",
    "map_path = puzzle_data[2:]"
   ]
  },
  {
   "cell_type": "code",
   "execution_count": 5,
   "metadata": {},
   "outputs": [],
   "source": [
    "map_path_dict = {}\n",
    "for mp in map_path:\n",
    "    key, path_split = mp.split(\" = \")\n",
    "    path_split = path_split[1:-1].split(\", \")\n",
    "    map_path_dict[key] = path_split"
   ]
  },
  {
   "cell_type": "markdown",
   "metadata": {},
   "source": [
    "# Puzzle 1"
   ]
  },
  {
   "cell_type": "code",
   "execution_count": 6,
   "metadata": {},
   "outputs": [
    {
     "name": "stdout",
     "output_type": "stream",
     "text": [
      "step_count=17141\n"
     ]
    }
   ],
   "source": [
    "step = map_path_dict[\"AAA\"]\n",
    "d = 0\n",
    "step_count = 0\n",
    "while True:\n",
    "    indice = DIR_TO_INDICE[directions[d]]\n",
    "    step_count += 1\n",
    "    if step[indice] == \"ZZZ\":\n",
    "        print(f\"{step_count=}\")\n",
    "        break\n",
    "    step = map_path_dict[step[indice]]\n",
    "    d = (d + 1) % len(directions)"
   ]
  },
  {
   "cell_type": "markdown",
   "metadata": {},
   "source": [
    "# Puzzle 2"
   ]
  },
  {
   "cell_type": "code",
   "execution_count": 7,
   "metadata": {},
   "outputs": [],
   "source": [
    "import numpy as np"
   ]
  },
  {
   "cell_type": "code",
   "execution_count": 8,
   "metadata": {},
   "outputs": [],
   "source": [
    "steps = [k for k in map_path_dict.keys() if k[-1] == \"A\"]\n",
    "all_cycle = []\n",
    "for step in steps:\n",
    "    d = 0\n",
    "    step_count = 0\n",
    "    next_step = step\n",
    "    while True:\n",
    "        indice = DIR_TO_INDICE[directions[d]]\n",
    "        next_step = map_path_dict[next_step][indice]\n",
    "        step_count += 1\n",
    "        if next_step[-1] == \"Z\":\n",
    "            all_cycle.append(step_count)\n",
    "            break\n",
    "        d = (d + 1) % len(directions)"
   ]
  },
  {
   "cell_type": "code",
   "execution_count": 9,
   "metadata": {},
   "outputs": [
    {
     "name": "stdout",
     "output_type": "stream",
     "text": [
      "np.lcm.reduce(all_cycle)=10818234074807\n"
     ]
    }
   ],
   "source": [
    "print(f\"{np.lcm.reduce(all_cycle)=}\")"
   ]
  },
  {
   "cell_type": "code",
   "execution_count": null,
   "metadata": {},
   "outputs": [],
   "source": []
  }
 ],
 "metadata": {
  "kernelspec": {
   "display_name": "3.9.6",
   "language": "python",
   "name": "python3"
  },
  "language_info": {
   "codemirror_mode": {
    "name": "ipython",
    "version": 3
   },
   "file_extension": ".py",
   "mimetype": "text/x-python",
   "name": "python",
   "nbconvert_exporter": "python",
   "pygments_lexer": "ipython3",
   "version": "3.9.6"
  }
 },
 "nbformat": 4,
 "nbformat_minor": 2
}
