{
 "cells": [
  {
   "cell_type": "code",
   "execution_count": 1,
   "metadata": {},
   "outputs": [],
   "source": [
    "import os\n",
    "import sys\n",
    "\n",
    "REPO_ROOT = os.environ[\"REPO_PATH\"]\n",
    "PROJECT_NAME = \"advent-of-code-2023\"\n",
    "sys.path.append(os.path.join(REPO_ROOT, PROJECT_NAME))\n",
    "\n",
    "import utils"
   ]
  },
  {
   "cell_type": "markdown",
   "metadata": {},
   "source": [
    "# Functions"
   ]
  },
  {
   "cell_type": "code",
   "execution_count": 2,
   "metadata": {},
   "outputs": [],
   "source": [
    "def get_differences_serie(data, index_to_consider: int = -1):\n",
    "    new_data = [data[i] - data[i - 1] for i in range(1, len(data))]\n",
    "    if set(new_data) == {0}:\n",
    "        return [0]\n",
    "    return [new_data[index_to_consider]] + get_differences_serie(new_data, index_to_consider)\n",
    "\n",
    "\n",
    "def forecast_value(data, forecast_type: str = \"post\"):\n",
    "    if forecast_type == \"post\":\n",
    "        index_to_consider = -1\n",
    "        sum_multiplier = 1\n",
    "    elif forecast_type == \"pre\":\n",
    "        index_to_consider = 0\n",
    "        sum_multiplier = -1\n",
    "    else:\n",
    "        raise ValueError(\"forecast_type must be 'post' or 'pre'\")\n",
    "    differences = [data[index_to_consider]] + get_differences_serie(data, index_to_consider)\n",
    "    return sum([d * sum_multiplier**i for i, d in enumerate(differences)])"
   ]
  },
  {
   "cell_type": "markdown",
   "metadata": {},
   "source": [
    "# Extract data"
   ]
  },
  {
   "cell_type": "code",
   "execution_count": 3,
   "metadata": {},
   "outputs": [],
   "source": [
    "puzzle_data = utils.load_data(test=False)\n",
    "values = [[int(x) for x in value.split(\" \")] for value in puzzle_data]"
   ]
  },
  {
   "cell_type": "markdown",
   "metadata": {},
   "source": [
    "# Puzzle 1"
   ]
  },
  {
   "cell_type": "code",
   "execution_count": 4,
   "metadata": {},
   "outputs": [
    {
     "name": "stdout",
     "output_type": "stream",
     "text": [
      "sum_extrapolated=2174807968\n"
     ]
    }
   ],
   "source": [
    "sum_extrapolated = 0\n",
    "for v in values:\n",
    "    sum_extrapolated += forecast_value(v)\n",
    "print(f\"{sum_extrapolated=}\")"
   ]
  },
  {
   "cell_type": "markdown",
   "metadata": {},
   "source": [
    "# Puzzle 2"
   ]
  },
  {
   "cell_type": "code",
   "execution_count": 5,
   "metadata": {},
   "outputs": [
    {
     "name": "stdout",
     "output_type": "stream",
     "text": [
      "sum_extrapolated=1208\n"
     ]
    }
   ],
   "source": [
    "sum_extrapolated = 0\n",
    "for v in values:\n",
    "    sum_extrapolated += forecast_value(v, \"pre\")\n",
    "print(f\"{sum_extrapolated=}\")"
   ]
  }
 ],
 "metadata": {
  "kernelspec": {
   "display_name": "3.9.6",
   "language": "python",
   "name": "python3"
  },
  "language_info": {
   "codemirror_mode": {
    "name": "ipython",
    "version": 3
   },
   "file_extension": ".py",
   "mimetype": "text/x-python",
   "name": "python",
   "nbconvert_exporter": "python",
   "pygments_lexer": "ipython3",
   "version": "3.9.6"
  }
 },
 "nbformat": 4,
 "nbformat_minor": 2
}
