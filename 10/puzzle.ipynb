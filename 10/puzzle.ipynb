{
 "cells": [
  {
   "cell_type": "code",
   "execution_count": 1,
   "metadata": {},
   "outputs": [],
   "source": [
    "import math\n",
    "import os\n",
    "import sys\n",
    "\n",
    "REPO_ROOT = os.environ[\"REPO_PATH\"]\n",
    "PROJECT_NAME = \"advent-of-code-2023\"\n",
    "sys.path.append(os.path.join(REPO_ROOT, PROJECT_NAME))\n",
    "\n",
    "import utils"
   ]
  },
  {
   "cell_type": "markdown",
   "metadata": {},
   "source": [
    "# Configs."
   ]
  },
  {
   "cell_type": "code",
   "execution_count": 2,
   "metadata": {},
   "outputs": [],
   "source": [
    "DIRECTIONS = {\n",
    "    \"|\": {\"end1\": [-1, 0], \"end2\": [1, 0]},\n",
    "    \"-\": {\"end1\": [0, -1], \"end2\": [0, 1]},\n",
    "    \"L\": {\"end1\": [-1, 0], \"end2\": [0, 1]},\n",
    "    \"J\": {\"end1\": [-1, 0], \"end2\": [0, -1]},\n",
    "    \"7\": {\"end1\": [1, 0], \"end2\": [0, -1]},\n",
    "    \"F\": {\"end1\": [1, 0], \"end2\": [0, 1]},\n",
    "}"
   ]
  },
  {
   "cell_type": "markdown",
   "metadata": {},
   "source": [
    "# Functions"
   ]
  },
  {
   "cell_type": "code",
   "execution_count": 3,
   "metadata": {},
   "outputs": [],
   "source": [
    "class EndOfPath(Exception):\n",
    "    pass\n",
    "\n",
    "\n",
    "class Pipe:\n",
    "    def __init__(self, position: list[int], pipe_type: str):\n",
    "        self.position = position\n",
    "        self.pipe_type = pipe_type\n",
    "        self.direction = DIRECTIONS.get(pipe_type, {\"end1\": [0, 0], \"end2\": [0, 0]})\n",
    "        self.end1 = [self.position[0] + self.direction[\"end1\"][0], self.position[1] + self.direction[\"end1\"][1]]\n",
    "        self.end2 = [self.position[0] + self.direction[\"end2\"][0], self.position[1] + self.direction[\"end2\"][1]]\n",
    "        if self.end1[0] < 0 or self.end1[1] < 0:\n",
    "            self.end1 = None\n",
    "        if self.end2[0] < 0 or self.end2[1] < 0:\n",
    "            self.end2 = None\n",
    "        self.upstream_end = None\n",
    "        self.downstream_end = None\n",
    "        self.position_in_chain = 0\n",
    "\n",
    "    def __find_neighbor(self, pipe_map: list[list[str]]) -> object:\n",
    "        directions = [[1, 0], [-1, 0], [0, 1], [0, -1]]\n",
    "        for direction in directions:\n",
    "            end1 = [self.position[0] + direction[0], self.position[1] + direction[1]]\n",
    "            if end1[0] < 0 or end1[1] < 0:\n",
    "                continue\n",
    "            neighbor = pipe_map[end1[0]][end1[1]]\n",
    "            self.end1 = end1\n",
    "            if neighbor.end2 == self.position or neighbor.end1 == self.position:\n",
    "                return neighbor\n",
    "        raise Exception(\"No neighbor found\")\n",
    "\n",
    "    def connect_neighbor(self, pipe_map: list[list[object]]) -> object:\n",
    "        if self.upstream_end == self.end1:\n",
    "            neighbor = pipe_map[self.end2[0]][self.end2[1]]\n",
    "            self.downstream_end = self.end2\n",
    "        elif self.upstream_end == self.end2:\n",
    "            neighbor = pipe_map[self.end1[0]][self.end1[1]]\n",
    "            self.downstream_end = self.end1\n",
    "        elif self.pipe_type == \"S\":\n",
    "            neighbor = self.__find_neighbor(pipe_map)\n",
    "            self.downstream_end = self.end1\n",
    "        else:\n",
    "            raise Exception(\"Pipe not connected to upstream\")\n",
    "\n",
    "        if neighbor.pipe_type == \"S\":\n",
    "            raise EndOfPath(\"End of path reached\")\n",
    "\n",
    "        if neighbor.end2 == self.position:\n",
    "            neighbor.upstream_end = neighbor.end2\n",
    "        elif neighbor.end1 == self.position:\n",
    "            neighbor.upstream_end = neighbor.end1\n",
    "        else:\n",
    "            raise Exception(\"Neighbor not connectable\")\n",
    "\n",
    "        neighbor.position_in_chain = self.position_in_chain + 1\n",
    "        return neighbor\n",
    "\n",
    "    def __repr__(self):\n",
    "        return f\"Pipe({self.position=}, {self.pipe_type=}, {self.end1=}, {self.end2=}, {self.upstream_end=}, {self.position_in_chain=})\""
   ]
  },
  {
   "cell_type": "markdown",
   "metadata": {},
   "source": [
    "# Extract data"
   ]
  },
  {
   "cell_type": "code",
   "execution_count": 4,
   "metadata": {},
   "outputs": [],
   "source": [
    "puzzle_data = utils.load_data(test=False)\n",
    "puzzle_data = [list(line) for line in puzzle_data]"
   ]
  },
  {
   "cell_type": "markdown",
   "metadata": {},
   "source": [
    "# Puzzle 1"
   ]
  },
  {
   "cell_type": "code",
   "execution_count": 5,
   "metadata": {},
   "outputs": [],
   "source": [
    "pipe_map = []\n",
    "start_coord = None\n",
    "for r, row in enumerate(puzzle_data):\n",
    "    pipe_col = []\n",
    "    for c, col in enumerate(row):\n",
    "        pipe_col.append(Pipe([r, c], col))\n",
    "        if col == \"S\":\n",
    "            start_coord = [r, c]\n",
    "    pipe_map.append(pipe_col)"
   ]
  },
  {
   "cell_type": "code",
   "execution_count": 6,
   "metadata": {},
   "outputs": [
    {
     "name": "stdout",
     "output_type": "stream",
     "text": [
      "farthest_point=7066\n"
     ]
    }
   ],
   "source": [
    "node = pipe_map[start_coord[0]][start_coord[1]]\n",
    "while True:\n",
    "    try:\n",
    "        node = node.connect_neighbor(pipe_map)\n",
    "    except EndOfPath:\n",
    "        break\n",
    "farthest_point = math.ceil(node.position_in_chain / 2)\n",
    "print(f\"{farthest_point=}\")"
   ]
  },
  {
   "cell_type": "markdown",
   "metadata": {},
   "source": [
    "# Puzzle 2"
   ]
  },
  {
   "cell_type": "code",
   "execution_count": null,
   "metadata": {},
   "outputs": [],
   "source": []
  }
 ],
 "metadata": {
  "kernelspec": {
   "display_name": "3.9.6",
   "language": "python",
   "name": "python3"
  },
  "language_info": {
   "codemirror_mode": {
    "name": "ipython",
    "version": 3
   },
   "file_extension": ".py",
   "mimetype": "text/x-python",
   "name": "python",
   "nbconvert_exporter": "python",
   "pygments_lexer": "ipython3",
   "version": "3.9.6"
  }
 },
 "nbformat": 4,
 "nbformat_minor": 2
}
