{
 "cells": [
  {
   "cell_type": "code",
   "execution_count": 1,
   "metadata": {},
   "outputs": [],
   "source": [
    "import os\n",
    "import re"
   ]
  },
  {
   "cell_type": "code",
   "execution_count": 2,
   "metadata": {},
   "outputs": [],
   "source": [
    "BASE_PATH = os.environ[\"REPO_PATH\"]\n",
    "PROJECT_FOLDER = \"advent-of-code-2023\"\n",
    "DAY = \"01\"\n",
    "PUZZLE_DATA_PATH = os.path.join(BASE_PATH, PROJECT_FOLDER, DAY, \"inputs\", \"puzzle.txt\")"
   ]
  },
  {
   "cell_type": "markdown",
   "metadata": {},
   "source": [
    "# Extract data"
   ]
  },
  {
   "cell_type": "code",
   "execution_count": 3,
   "metadata": {},
   "outputs": [],
   "source": [
    "with open(PUZZLE_DATA_PATH) as f:\n",
    "    puzzle_data = f.readlines()"
   ]
  },
  {
   "cell_type": "markdown",
   "metadata": {},
   "source": [
    "# Puzzle 1"
   ]
  },
  {
   "cell_type": "code",
   "execution_count": 4,
   "metadata": {},
   "outputs": [
    {
     "name": "stdout",
     "output_type": "stream",
     "text": [
      "52974\n"
     ]
    }
   ],
   "source": [
    "num1 = 0\n",
    "for d in puzzle_data:\n",
    "    str_num = re.findall(r\"[0-9]\", d)\n",
    "    str_num = str_num[0] + str_num[-1]\n",
    "    num1 += int(str_num)\n",
    "print(num1)"
   ]
  },
  {
   "cell_type": "markdown",
   "metadata": {},
   "source": [
    "# Puzzle 2"
   ]
  },
  {
   "cell_type": "code",
   "execution_count": 5,
   "metadata": {},
   "outputs": [],
   "source": [
    "STR_TO_NUMBER_MAP = {\n",
    "    \"one\": \"1\",\n",
    "    \"two\": \"2\",\n",
    "    \"three\": \"3\",\n",
    "    \"four\": \"4\",\n",
    "    \"five\": \"5\",\n",
    "    \"six\": \"6\",\n",
    "    \"seven\": \"7\",\n",
    "    \"eight\": \"8\",\n",
    "    \"nine\": \"9\",\n",
    "}\n",
    "\n",
    "nums = r\"[0-9]\"\n",
    "alpha = r\"one|two|three|four|five|six|seven|eight|nine\"\n",
    "regexp_forward = r\"(\" + nums + r\"|\" + alpha + r\")\"\n",
    "regexp_backward = r\"(\" + nums + r\"|\" + alpha[::-1] + r\")\""
   ]
  },
  {
   "cell_type": "code",
   "execution_count": 6,
   "metadata": {},
   "outputs": [
    {
     "name": "stdout",
     "output_type": "stream",
     "text": [
      "53340\n"
     ]
    }
   ],
   "source": [
    "num2 = 0\n",
    "for d in puzzle_data:\n",
    "    forward_pass = re.findall(regexp_forward, d)\n",
    "    forward_pass = forward_pass[0]\n",
    "    forward_pass = STR_TO_NUMBER_MAP.get(forward_pass, forward_pass)\n",
    "    backward_pass = re.findall(regexp_backward, d[::-1])\n",
    "    backward_pass = backward_pass[0][::-1]\n",
    "    backward_pass = STR_TO_NUMBER_MAP.get(backward_pass, backward_pass)\n",
    "    str_num2 = forward_pass + backward_pass\n",
    "    num2 += int(str_num2)\n",
    "print(num2)"
   ]
  },
  {
   "cell_type": "code",
   "execution_count": null,
   "metadata": {},
   "outputs": [],
   "source": []
  }
 ],
 "metadata": {
  "kernelspec": {
   "display_name": "3.9.6",
   "language": "python",
   "name": "python3"
  },
  "language_info": {
   "codemirror_mode": {
    "name": "ipython",
    "version": 3
   },
   "file_extension": ".py",
   "mimetype": "text/x-python",
   "name": "python",
   "nbconvert_exporter": "python",
   "pygments_lexer": "ipython3",
   "version": "3.9.6"
  }
 },
 "nbformat": 4,
 "nbformat_minor": 2
}
