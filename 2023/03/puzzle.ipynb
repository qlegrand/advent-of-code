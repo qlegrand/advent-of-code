{
 "cells": [
  {
   "cell_type": "code",
   "execution_count": 1,
   "metadata": {},
   "outputs": [],
   "source": [
    "import os\n",
    "import re"
   ]
  },
  {
   "cell_type": "code",
   "execution_count": 2,
   "metadata": {},
   "outputs": [],
   "source": [
    "BASE_PATH = os.environ[\"REPO_PATH\"]\n",
    "PROJECT_FOLDER = \"advent-of-code-2023\"\n",
    "DAY = \"03\"\n",
    "PUZZLE_DATA_PATH = os.path.join(BASE_PATH, PROJECT_FOLDER, DAY, \"inputs\", \"puzzle.txt\")"
   ]
  },
  {
   "cell_type": "markdown",
   "metadata": {},
   "source": [
    "# Extract data"
   ]
  },
  {
   "cell_type": "code",
   "execution_count": 3,
   "metadata": {},
   "outputs": [],
   "source": [
    "with open(PUZZLE_DATA_PATH) as f:\n",
    "    puzzle_data = f.read().splitlines()"
   ]
  },
  {
   "cell_type": "markdown",
   "metadata": {},
   "source": [
    "# Puzzle 1"
   ]
  },
  {
   "cell_type": "code",
   "execution_count": 4,
   "metadata": {},
   "outputs": [],
   "source": [
    "def get_valid_number(data, coords):\n",
    "    row, start, end = coords\n",
    "    height = len(data)\n",
    "    width = len(data[0])\n",
    "    top_left_x, top_left_y = max(start - 1, 0), max(row - 1, 0)\n",
    "    bottom_right_x, bottom_right_y = min(end + 1, width), min(row + 2, height)\n",
    "    tmp_str = \"\"\n",
    "    for line in data[top_left_y:bottom_right_y]:\n",
    "        tmp_str += line[top_left_x:bottom_right_x]\n",
    "    if re.fullmatch(r\"[\\d\\.]+\", tmp_str) is None:\n",
    "        return int(data[row][start:end])\n",
    "    return"
   ]
  },
  {
   "cell_type": "code",
   "execution_count": 5,
   "metadata": {},
   "outputs": [],
   "source": [
    "valid_numbers = []\n",
    "for row_num, row in enumerate(puzzle_data):\n",
    "    for i in re.finditer(r\"\\d+\", row):\n",
    "        start = i.start()\n",
    "        end = i.end()\n",
    "        if number := get_valid_number(puzzle_data, (row_num, start, end)):\n",
    "            valid_numbers.append(number)"
   ]
  },
  {
   "cell_type": "code",
   "execution_count": 6,
   "metadata": {},
   "outputs": [
    {
     "name": "stdout",
     "output_type": "stream",
     "text": [
      "sum(valid_numbers)=509115\n"
     ]
    }
   ],
   "source": [
    "print(f\"{sum(valid_numbers)=}\")"
   ]
  },
  {
   "cell_type": "markdown",
   "metadata": {},
   "source": [
    "# Puzzle 2"
   ]
  },
  {
   "cell_type": "code",
   "execution_count": 7,
   "metadata": {},
   "outputs": [],
   "source": [
    "def get_relevant_numbers(line, start, end):\n",
    "    # check if line[start] is an integer\n",
    "    all_numbers = re.findall(r\"\\d+\", line[start:end])\n",
    "    first_char_int = re.fullmatch(r\"\\d\", line[start]) is not None\n",
    "    last_char_int = re.fullmatch(r\"\\d\", line[end - 1]) is not None\n",
    "    if first_char_int and last_char_int:\n",
    "        if start == 0 and end == len(line):\n",
    "            return all_numbers\n",
    "        elif start == 0:\n",
    "            return get_relevant_numbers(line, start, end + 1)\n",
    "        elif end == len(line):\n",
    "            return get_relevant_numbers(line, start - 1, end)\n",
    "        return get_relevant_numbers(line, start - 1, end + 1)\n",
    "    elif first_char_int:\n",
    "        if start == 0:\n",
    "            return all_numbers\n",
    "        return get_relevant_numbers(line, start - 1, end)\n",
    "    elif last_char_int:\n",
    "        if end == len(line):\n",
    "            return all_numbers\n",
    "        return get_relevant_numbers(line, start, end + 1)\n",
    "    else:\n",
    "        return all_numbers\n",
    "\n",
    "\n",
    "def get_valid_gear_coords(data, coords):\n",
    "    row, start = coords\n",
    "    height = len(data)\n",
    "    width = len(data[0])\n",
    "    top_left_x, top_left_y = max(start - 1, 0), max(row - 1, 0)\n",
    "    bottom_right_x, bottom_right_y = min(start + 2, width), min(row + 2, height)\n",
    "    numbers = []\n",
    "    for line in data[top_left_y:bottom_right_y]:\n",
    "        numbers += get_relevant_numbers(line, top_left_x, bottom_right_x)\n",
    "    if len(numbers) > 1:\n",
    "        gear_ratio = 1\n",
    "        for n in numbers:\n",
    "            gear_ratio *= int(n)\n",
    "        return gear_ratio"
   ]
  },
  {
   "cell_type": "code",
   "execution_count": 8,
   "metadata": {},
   "outputs": [],
   "source": [
    "gear_ratios = []\n",
    "for row_num, row in enumerate(puzzle_data):\n",
    "    for i in re.finditer(r\"\\*+\", row):\n",
    "        if ratios := get_valid_gear_coords(puzzle_data, (row_num, i.start())):\n",
    "            gear_ratios.append(ratios)"
   ]
  },
  {
   "cell_type": "code",
   "execution_count": 9,
   "metadata": {},
   "outputs": [
    {
     "name": "stdout",
     "output_type": "stream",
     "text": [
      "sum(gear_ratios)=75220503\n"
     ]
    }
   ],
   "source": [
    "print(f\"{sum(gear_ratios)=}\")"
   ]
  },
  {
   "cell_type": "code",
   "execution_count": null,
   "metadata": {},
   "outputs": [],
   "source": []
  }
 ],
 "metadata": {
  "kernelspec": {
   "display_name": "3.9.6",
   "language": "python",
   "name": "python3"
  },
  "language_info": {
   "codemirror_mode": {
    "name": "ipython",
    "version": 3
   },
   "file_extension": ".py",
   "mimetype": "text/x-python",
   "name": "python",
   "nbconvert_exporter": "python",
   "pygments_lexer": "ipython3",
   "version": "3.9.6"
  }
 },
 "nbformat": 4,
 "nbformat_minor": 2
}
