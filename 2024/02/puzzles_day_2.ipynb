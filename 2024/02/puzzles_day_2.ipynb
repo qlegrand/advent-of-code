{
 "cells": [
  {
   "cell_type": "markdown",
   "metadata": {},
   "source": [
    "# Puzzle 1"
   ]
  },
  {
   "cell_type": "code",
   "execution_count": 1,
   "metadata": {},
   "outputs": [],
   "source": [
    "with open(\"inputs/input.txt\", \"r\") as file:\n",
    "    lines = file.readlines()"
   ]
  },
  {
   "cell_type": "code",
   "execution_count": 2,
   "metadata": {},
   "outputs": [],
   "source": [
    "safe_count = 0\n",
    "for l in lines:\n",
    "    number_list = [int(x) for x in l.rstrip(\"\\n\").split(\" \")]\n",
    "    dec_cond = all(earlier >= later for earlier, later in zip(number_list, number_list[1:]))\n",
    "    inc_cond = all(earlier <= later for earlier, later in zip(number_list, number_list[1:]))\n",
    "    abs_step_3 = all(abs(earlier - later) <= 3 for earlier, later in zip(number_list, number_list[1:]))\n",
    "    abs_step_1 = all(abs(earlier - later) >= 1 for earlier, later in zip(number_list, number_list[1:]))\n",
    "\n",
    "    if (inc_cond or dec_cond) and abs_step_3 and abs_step_1:\n",
    "        safe_count += 1"
   ]
  },
  {
   "cell_type": "code",
   "execution_count": 3,
   "metadata": {},
   "outputs": [
    {
     "name": "stdout",
     "output_type": "stream",
     "text": [
      "safe_count=314\n"
     ]
    }
   ],
   "source": [
    "print(f\"{safe_count=}\")"
   ]
  },
  {
   "cell_type": "markdown",
   "metadata": {},
   "source": [
    "# Puzzle 2"
   ]
  },
  {
   "cell_type": "code",
   "execution_count": 4,
   "metadata": {},
   "outputs": [],
   "source": [
    "def detect_safe_report(number_list):\n",
    "    incremental_count = len(number_list) - 1\n",
    "    decremental_count = len(number_list) - 1\n",
    "    at_least_one_count = len(number_list) - 1\n",
    "    at_most_three_count = len(number_list) - 1\n",
    "    for earlier, later in zip(number_list, number_list[1:]):\n",
    "        if earlier >= later:\n",
    "            decremental_count -= 1\n",
    "        if earlier <= later:\n",
    "            incremental_count -= 1\n",
    "        if abs(earlier - later) >= 1:\n",
    "            at_least_one_count -= 1\n",
    "        if abs(earlier - later) <= 3:\n",
    "            at_most_three_count -= 1\n",
    "\n",
    "    if decremental_count == 0 or incremental_count == 0:\n",
    "        if at_least_one_count == 0 and at_most_three_count == 0:\n",
    "            return True\n",
    "    return False"
   ]
  },
  {
   "cell_type": "code",
   "execution_count": 5,
   "metadata": {},
   "outputs": [],
   "source": [
    "safe_count = 0\n",
    "for l in lines:\n",
    "    number_list = [int(x) for x in l.rstrip(\"\\n\").split(\" \")]\n",
    "\n",
    "    if detect_safe_report(number_list):\n",
    "        safe_count += 1\n",
    "    else:\n",
    "        for i in range(0, len(number_list)):\n",
    "            if detect_safe_report(number_list[:i] + number_list[i + 1 :]):\n",
    "                safe_count += 1\n",
    "                break"
   ]
  },
  {
   "cell_type": "code",
   "execution_count": 6,
   "metadata": {},
   "outputs": [
    {
     "name": "stdout",
     "output_type": "stream",
     "text": [
      "safe_count=373\n"
     ]
    }
   ],
   "source": [
    "print(f\"{safe_count=}\")"
   ]
  },
  {
   "cell_type": "code",
   "execution_count": null,
   "metadata": {},
   "outputs": [],
   "source": []
  }
 ],
 "metadata": {
  "kernelspec": {
   "display_name": "3.9.6",
   "language": "python",
   "name": "python3"
  },
  "language_info": {
   "codemirror_mode": {
    "name": "ipython",
    "version": 3
   },
   "file_extension": ".py",
   "mimetype": "text/x-python",
   "name": "python",
   "nbconvert_exporter": "python",
   "pygments_lexer": "ipython3",
   "version": "3.9.6"
  }
 },
 "nbformat": 4,
 "nbformat_minor": 2
}
