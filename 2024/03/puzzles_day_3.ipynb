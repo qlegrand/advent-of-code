{
 "cells": [
  {
   "cell_type": "code",
   "execution_count": null,
   "metadata": {},
   "outputs": [],
   "source": [
    "import re\n",
    "\n",
    "with open(\"./inputs/input.txt\") as f:\n",
    "    lines = f.readlines()"
   ]
  },
  {
   "cell_type": "markdown",
   "metadata": {},
   "source": [
    "# Puzzle 1"
   ]
  },
  {
   "cell_type": "code",
   "execution_count": null,
   "metadata": {},
   "outputs": [],
   "source": [
    "list_of_mul = []\n",
    "for l in lines:\n",
    "    list_of_mul += re.findall(r\"mul\\(\\d+,\\d+\\)\", l)\n",
    "\n",
    "sum_of_mul = 0\n",
    "for mul in list_of_mul:\n",
    "    a, b = map(int, re.findall(r\"\\d+\", mul))\n",
    "    sum_of_mul += a * b"
   ]
  },
  {
   "cell_type": "code",
   "execution_count": null,
   "metadata": {},
   "outputs": [],
   "source": [
    "print(f\"{sum_of_mul=}\")"
   ]
  },
  {
   "cell_type": "markdown",
   "metadata": {},
   "source": [
    "# Puzzle 2"
   ]
  },
  {
   "cell_type": "code",
   "execution_count": null,
   "metadata": {},
   "outputs": [],
   "source": [
    "list_of_instructions = []\n",
    "for l in lines:\n",
    "    list_of_instructions += re.findall(r\"(mul\\(\\d+,\\d+\\)|do\\(\\)|don't\\(\\))\", l)\n",
    "\n",
    "\n",
    "enabled = True\n",
    "sum_of_mul = 0\n",
    "for instr in list_of_instructions:\n",
    "    if instr == \"do()\":\n",
    "        enabled = True\n",
    "    elif instr == \"don't()\":\n",
    "        enabled = False\n",
    "    elif enabled:\n",
    "        a, b = map(int, re.findall(r\"\\d+\", instr))\n",
    "        sum_of_mul += a * b"
   ]
  },
  {
   "cell_type": "code",
   "execution_count": null,
   "metadata": {},
   "outputs": [],
   "source": [
    "print(f\"{sum_of_mul=}\")"
   ]
  },
  {
   "cell_type": "code",
   "execution_count": null,
   "metadata": {},
   "outputs": [],
   "source": []
  }
 ],
 "metadata": {
  "kernelspec": {
   "display_name": "3.9.6",
   "language": "python",
   "name": "python3"
  },
  "language_info": {
   "codemirror_mode": {
    "name": "ipython",
    "version": 3
   },
   "file_extension": ".py",
   "mimetype": "text/x-python",
   "name": "python",
   "nbconvert_exporter": "python",
   "pygments_lexer": "ipython3",
   "version": "3.9.6"
  }
 },
 "nbformat": 4,
 "nbformat_minor": 2
}
