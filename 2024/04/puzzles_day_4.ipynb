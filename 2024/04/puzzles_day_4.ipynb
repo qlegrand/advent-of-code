{
 "cells": [
  {
   "cell_type": "code",
   "execution_count": null,
   "metadata": {},
   "outputs": [],
   "source": [
    "import re\n",
    "\n",
    "with open(\"./inputs/input.txt\") as file:\n",
    "    lines = file.readlines()"
   ]
  },
  {
   "cell_type": "code",
   "execution_count": null,
   "metadata": {},
   "outputs": [],
   "source": [
    "def clean_line(line):\n",
    "    return line.strip(\"\\n\")\n",
    "\n",
    "\n",
    "def transpose(matrix):\n",
    "    transposed = []\n",
    "    for i in range(len(matrix[0])):\n",
    "        txt = \"\"\n",
    "        for j in range(len(matrix)):\n",
    "            txt += matrix[j][i]\n",
    "        transposed.append(txt)\n",
    "    return transposed\n",
    "\n",
    "\n",
    "def detect_diagonal(matrix, word=\"XMAS\"):\n",
    "    word_1 = \"\"\n",
    "    word_2 = \"\"\n",
    "    for i in range(len(word)):\n",
    "        word_1 += matrix[i][i]\n",
    "        word_2 += matrix[i][len(word) - i - 1]\n",
    "    word_count = 0\n",
    "    if word_1 == word:\n",
    "        word_count += 1\n",
    "    if word_2 == word:\n",
    "        word_count += 1\n",
    "    if word_1[::-1] == word:\n",
    "        word_count += 1\n",
    "    if word_2[::-1] == word:\n",
    "        word_count += 1\n",
    "    return word_count"
   ]
  },
  {
   "cell_type": "markdown",
   "metadata": {},
   "source": [
    "# Puzzle 1"
   ]
  },
  {
   "cell_type": "code",
   "execution_count": null,
   "metadata": {},
   "outputs": [],
   "source": [
    "valid_word_count = 0\n",
    "pattern = \"XMAS\"\n",
    "lines = list(map(clean_line, lines))\n",
    "\n",
    "for line in lines:\n",
    "    valid_word_count += len(re.findall(rf\"{pattern}\", line)) + len(re.findall(rf\"{pattern[::-1]}\", line))\n",
    "\n",
    "for transposed_line in transpose(lines):\n",
    "    valid_word_count += len(re.findall(rf\"{pattern}\", transposed_line)) + len(\n",
    "        re.findall(rf\"{pattern[::-1]}\", transposed_line)\n",
    "    )\n",
    "\n",
    "for i in range(len(lines) - len(pattern) + 1):\n",
    "    for j in range(len(lines[0]) - len(pattern) + 1):\n",
    "        matrix = [line[j : j + len(pattern)] for line in lines[i : i + len(pattern)]]\n",
    "        valid_word_count += detect_diagonal(matrix, pattern)"
   ]
  },
  {
   "cell_type": "code",
   "execution_count": null,
   "metadata": {},
   "outputs": [],
   "source": [
    "print(f\"{valid_word_count=}\")"
   ]
  },
  {
   "cell_type": "markdown",
   "metadata": {},
   "source": [
    "# Puzzle 2"
   ]
  },
  {
   "cell_type": "code",
   "execution_count": null,
   "metadata": {},
   "outputs": [],
   "source": [
    "valid_word_count = 0\n",
    "pattern = \"MAS\"\n",
    "\n",
    "for i in range(len(lines) - len(pattern) + 1):\n",
    "    for j in range(len(lines[0]) - len(pattern) + 1):\n",
    "        matrix = [line[j : j + len(pattern)] for line in lines[i : i + len(pattern)]]\n",
    "        if detect_diagonal(matrix, pattern) == 2:\n",
    "            valid_word_count += 1"
   ]
  },
  {
   "cell_type": "code",
   "execution_count": null,
   "metadata": {},
   "outputs": [],
   "source": [
    "print(f\"{valid_word_count=}\")"
   ]
  },
  {
   "cell_type": "code",
   "execution_count": null,
   "metadata": {},
   "outputs": [],
   "source": []
  }
 ],
 "metadata": {
  "kernelspec": {
   "display_name": "3.9.6",
   "language": "python",
   "name": "python3"
  },
  "language_info": {
   "codemirror_mode": {
    "name": "ipython",
    "version": 3
   },
   "file_extension": ".py",
   "mimetype": "text/x-python",
   "name": "python",
   "nbconvert_exporter": "python",
   "pygments_lexer": "ipython3",
   "version": "3.9.6"
  }
 },
 "nbformat": 4,
 "nbformat_minor": 2
}
