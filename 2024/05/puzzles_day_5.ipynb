{
 "cells": [
  {
   "cell_type": "code",
   "execution_count": null,
   "metadata": {},
   "outputs": [],
   "source": [
    "import pandas as pd\n",
    "\n",
    "rules_df = pd.read_csv(\"./inputs/ordering_rules.csv\", sep=\"|\", header=None)\n",
    "\n",
    "with open(\"./inputs/updates.txt\") as f:\n",
    "    updates = f.readlines()\n",
    "\n",
    "updates = [[int(u) for u in update.strip(\"\\n\").split(\",\")] for update in updates]"
   ]
  },
  {
   "cell_type": "code",
   "execution_count": null,
   "metadata": {},
   "outputs": [],
   "source": [
    "def check_rule_for_update(rule: pd.Series, update: list):\n",
    "    first = rule[0]\n",
    "    second = rule[1]\n",
    "    if first not in update or second not in update:\n",
    "        return True\n",
    "\n",
    "    first_index = update.index(first)\n",
    "    second_index = update.index(second)\n",
    "\n",
    "    if first_index < second_index:\n",
    "        return True\n",
    "\n",
    "    return False\n",
    "\n",
    "\n",
    "def check_all_rules_for_update(rules_df: pd.DataFrame, update: list):\n",
    "    for _, rule_se in rules_df.iterrows():\n",
    "        if not check_rule_for_update(rule_se, update):\n",
    "            return False\n",
    "    return True\n",
    "\n",
    "\n",
    "def get_list_middle_elements(lst):\n",
    "    lst_len = len(lst)\n",
    "    mid_index = lst_len // 2\n",
    "    return lst[mid_index]"
   ]
  },
  {
   "cell_type": "markdown",
   "metadata": {},
   "source": [
    "# Puzzle 1"
   ]
  },
  {
   "cell_type": "code",
   "execution_count": null,
   "metadata": {},
   "outputs": [],
   "source": [
    "sum_page_number = 0\n",
    "for update in updates:\n",
    "    if check_all_rules_for_update(rules_df, update):\n",
    "        sum_page_number += get_list_middle_elements(update)"
   ]
  },
  {
   "cell_type": "code",
   "execution_count": null,
   "metadata": {},
   "outputs": [],
   "source": [
    "print(f\"{sum_page_number=}\")"
   ]
  },
  {
   "cell_type": "markdown",
   "metadata": {},
   "source": [
    "# Puzzle 2"
   ]
  },
  {
   "cell_type": "code",
   "execution_count": null,
   "metadata": {},
   "outputs": [],
   "source": [
    "from copy import deepcopy\n",
    "\n",
    "\n",
    "class RuleNotForUpdate(Exception):\n",
    "    pass\n",
    "\n",
    "\n",
    "def get_rule_for_update(rule: pd.Series, update: list):\n",
    "    first = rule[0]\n",
    "    second = rule[1]\n",
    "    if first in update and second in update:\n",
    "        return first, second\n",
    "    else:\n",
    "        raise RuleNotForUpdate\n",
    "\n",
    "\n",
    "def get_all_rules_for_update(rules_df: pd.DataFrame, update: list) -> list[tuple[int, int]]:\n",
    "    rules = []\n",
    "    for _, rule_se in rules_df.iterrows():\n",
    "        try:\n",
    "            rules.append(get_rule_for_update(rule_se, update))\n",
    "        except RuleNotForUpdate:\n",
    "            continue\n",
    "\n",
    "    return rules\n",
    "\n",
    "\n",
    "def get_first_page_of_first_rule(list_of_rules: list[tuple[int, int]]) -> int:\n",
    "    for rule in list_of_rules:\n",
    "        if not any([rule[0] == r[1] for r in list_of_rules]):\n",
    "            return rule[0]\n",
    "\n",
    "\n",
    "def get_pages_order_from_rules_list(list_of_rules: list[tuple[int, int]]) -> list[int, ...]:\n",
    "    pages = []\n",
    "    list_of_rules_copy = deepcopy(list_of_rules)\n",
    "    if len(list_of_rules_copy) == 1:\n",
    "        return list(list_of_rules_copy[0])\n",
    "    first_page = get_first_page_of_first_rule(list_of_rules_copy)\n",
    "    list_of_rules_copy = [rule_tuple for rule_tuple in list_of_rules_copy if rule_tuple[0] != first_page]\n",
    "    pages.append(first_page)\n",
    "    pages.extend(get_pages_order_from_rules_list(list_of_rules_copy))\n",
    "\n",
    "    return pages"
   ]
  },
  {
   "cell_type": "code",
   "execution_count": null,
   "metadata": {},
   "outputs": [],
   "source": [
    "incorect_updates = []\n",
    "\n",
    "for update in updates:\n",
    "    if not check_all_rules_for_update(rules_df, update):\n",
    "        incorect_updates.append(update)"
   ]
  },
  {
   "cell_type": "code",
   "execution_count": null,
   "metadata": {},
   "outputs": [],
   "source": [
    "sum_page_number = 0\n",
    "for incorect_update in incorect_updates:\n",
    "    all_rules_for_update = get_all_rules_for_update(rules_df, incorect_update)\n",
    "    ordered_pages = get_pages_order_from_rules_list(all_rules_for_update)\n",
    "    sum_page_number += get_list_middle_elements(ordered_pages)"
   ]
  },
  {
   "cell_type": "code",
   "execution_count": null,
   "metadata": {},
   "outputs": [],
   "source": [
    "print(f\"{sum_page_number=}\")"
   ]
  }
 ],
 "metadata": {
  "kernelspec": {
   "display_name": "3.9.6",
   "language": "python",
   "name": "python3"
  },
  "language_info": {
   "codemirror_mode": {
    "name": "ipython",
    "version": 3
   },
   "file_extension": ".py",
   "mimetype": "text/x-python",
   "name": "python",
   "nbconvert_exporter": "python",
   "pygments_lexer": "ipython3",
   "version": "3.9.6"
  }
 },
 "nbformat": 4,
 "nbformat_minor": 2
}
